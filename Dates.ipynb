{
 "cells": [
  {
   "cell_type": "markdown",
   "id": "cd4f8f76",
   "metadata": {},
   "source": [
    "# Python DateTime"
   ]
  },
  {
   "cell_type": "code",
   "execution_count": 1,
   "id": "f3f6fc79",
   "metadata": {},
   "outputs": [],
   "source": [
    "from datetime import date, time, datetime"
   ]
  },
  {
   "cell_type": "code",
   "execution_count": 2,
   "id": "91130b54",
   "metadata": {},
   "outputs": [
    {
     "data": {
      "text/plain": [
       "datetime.date(2022, 3, 17)"
      ]
     },
     "execution_count": 2,
     "metadata": {},
     "output_type": "execute_result"
    }
   ],
   "source": [
    "date(year=2022, month=3, day=17)"
   ]
  },
  {
   "cell_type": "code",
   "execution_count": 4,
   "id": "4e4440e0",
   "metadata": {},
   "outputs": [
    {
     "data": {
      "text/plain": [
       "datetime.time(16, 12, 55)"
      ]
     },
     "execution_count": 4,
     "metadata": {},
     "output_type": "execute_result"
    }
   ],
   "source": [
    "time(hour=16, minute=12, second=55)"
   ]
  },
  {
   "cell_type": "code",
   "execution_count": 5,
   "id": "f8adf568",
   "metadata": {},
   "outputs": [
    {
     "data": {
      "text/plain": [
       "datetime.datetime(2022, 3, 17, 16, 12, 55)"
      ]
     },
     "execution_count": 5,
     "metadata": {},
     "output_type": "execute_result"
    }
   ],
   "source": [
    "datetime(year=2022, month=3, day=17,hour=16, minute=12, second=55)"
   ]
  },
  {
   "cell_type": "code",
   "execution_count": 6,
   "id": "c15e8ae0",
   "metadata": {},
   "outputs": [
    {
     "data": {
      "text/plain": [
       "datetime.date(2022, 3, 17)"
      ]
     },
     "execution_count": 6,
     "metadata": {},
     "output_type": "execute_result"
    }
   ],
   "source": [
    "date.today()"
   ]
  },
  {
   "cell_type": "code",
   "execution_count": 7,
   "id": "c33a769a",
   "metadata": {},
   "outputs": [
    {
     "name": "stdout",
     "output_type": "stream",
     "text": [
      "2022-03-17\n"
     ]
    }
   ],
   "source": [
    "today = date.today()\n",
    "print(today)"
   ]
  },
  {
   "cell_type": "code",
   "execution_count": 8,
   "id": "7b33b1e0",
   "metadata": {},
   "outputs": [
    {
     "name": "stdout",
     "output_type": "stream",
     "text": [
      "2022-03-17 16:36:56.650623\n"
     ]
    }
   ],
   "source": [
    "now = datetime.now()\n",
    "print(now)"
   ]
  },
  {
   "cell_type": "code",
   "execution_count": 11,
   "id": "c6ff174d",
   "metadata": {},
   "outputs": [
    {
     "name": "stdout",
     "output_type": "stream",
     "text": [
      "16\n",
      "36\n",
      "56\n",
      "17\n",
      "3\n",
      "2022\n"
     ]
    }
   ],
   "source": [
    "print(now.hour)\n",
    "print(now.minute)\n",
    "print(now.second)\n",
    "\n",
    "print(now.day)\n",
    "print(now.month)\n",
    "print(now.year)\n"
   ]
  },
  {
   "cell_type": "code",
   "execution_count": 13,
   "id": "04ac0389",
   "metadata": {},
   "outputs": [
    {
     "name": "stdout",
     "output_type": "stream",
     "text": [
      "2022-03-17\n",
      "16:36:56\n",
      "2022-03-17 16:36:56\n"
     ]
    }
   ],
   "source": [
    "curr_time = time(now.hour, now.minute, now.second)\n",
    "print(today)\n",
    "print(curr_time)\n",
    "\n",
    "fulldatetime = datetime.combine(today, curr_time)\n",
    "print(fulldatetime)"
   ]
  },
  {
   "cell_type": "code",
   "execution_count": 14,
   "id": "380d15ff",
   "metadata": {},
   "outputs": [
    {
     "name": "stdout",
     "output_type": "stream",
     "text": [
      "2022-03-17\n"
     ]
    }
   ],
   "source": [
    "# 2022-03-17   # ISO format.\n",
    "\n",
    "isodate = date.fromisoformat(\"2022-03-17\")\n",
    "print(isodate)"
   ]
  },
  {
   "cell_type": "code",
   "execution_count": 20,
   "id": "e825b994",
   "metadata": {},
   "outputs": [
    {
     "name": "stdout",
     "output_type": "stream",
     "text": [
      "2022-03-17 13:45:32\n"
     ]
    }
   ],
   "source": [
    "format_string = \"%m-%d-%Y %H:%M:%S\"\n",
    "date_string = \"03-17-2022 13:45:32\"\n",
    "\n",
    "#datetime.strptime(date_string, format_string)\n",
    "d = datetime.strptime(date_string, format_string)\n",
    "print(d)\n"
   ]
  },
  {
   "cell_type": "code",
   "execution_count": null,
   "id": "93603b83",
   "metadata": {},
   "outputs": [],
   "source": []
  }
 ],
 "metadata": {
  "kernelspec": {
   "display_name": "Python 3",
   "language": "python",
   "name": "python3"
  },
  "language_info": {
   "codemirror_mode": {
    "name": "ipython",
    "version": 3
   },
   "file_extension": ".py",
   "mimetype": "text/x-python",
   "name": "python",
   "nbconvert_exporter": "python",
   "pygments_lexer": "ipython3",
   "version": "3.8.8"
  }
 },
 "nbformat": 4,
 "nbformat_minor": 5
}
