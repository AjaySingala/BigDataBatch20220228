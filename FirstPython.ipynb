{
 "cells": [
  {
   "cell_type": "code",
   "execution_count": null,
   "id": "d41b3e7a",
   "metadata": {},
   "outputs": [],
   "source": [
    "print(\"Hello there\")\n",
    "\n",
    "width = 10\n",
    "height = 20\n",
    "size = width * height"
   ]
  },
  {
   "cell_type": "code",
   "execution_count": null,
   "id": "86f0bd54",
   "metadata": {},
   "outputs": [],
   "source": [
    "print(size)"
   ]
  },
  {
   "cell_type": "code",
   "execution_count": null,
   "id": "f1de8957",
   "metadata": {},
   "outputs": [],
   "source": [
    "isValid = False\n",
    "isComplete = False\n",
    "\n",
    "if(isValid == True and isComplete == True):\n",
    "   print(\"It is True!\")\n",
    "   print(\"This will also be executed as part of the True block\")\n",
    "   print(\"This too\")\n",
    "else:\n",
    "   print(\"It is False!!!\")\n",
    "   print(\"This will also be executed as part of the False block\")\n",
    "   print(\"This as well\")"
   ]
  },
  {
   "cell_type": "code",
   "execution_count": null,
   "id": "5cbd5cf6",
   "metadata": {},
   "outputs": [],
   "source": [
    "print(True and False)"
   ]
  },
  {
   "cell_type": "code",
   "execution_count": null,
   "id": "095cec16",
   "metadata": {},
   "outputs": [],
   "source": [
    "isValid = False\n",
    "isComplete = False\n",
    "\n",
    "if(isValid == False or isComplete == False):\n",
    "   print(\"It is True!\")\n",
    "   print(\"This will also be executed as part of the True block\")\n",
    "   print(\"This too\")\n",
    "else:\n",
    "   print(\"It is False!!!\")\n",
    "   print(\"This will also be executed as part of the False block\")\n",
    "   print(\"This as well\")"
   ]
  },
  {
   "cell_type": "code",
   "execution_count": null,
   "id": "c538df53",
   "metadata": {},
   "outputs": [],
   "source": [
    "isValid = False\n",
    "isComplete = False\n",
    "\n",
    "if(isValid or isComplete):\n",
    "   print(\"It is True!\")\n",
    "   print(\"This will also be executed as part of the True block\")\n",
    "   print(\"This too\")\n",
    "else:\n",
    "   print(\"It is False!!!\")\n",
    "   print(\"This will also be executed as part of the False block\")\n",
    "   print(\"This as well\")"
   ]
  },
  {
   "cell_type": "code",
   "execution_count": null,
   "id": "a045d540",
   "metadata": {},
   "outputs": [],
   "source": [
    "isValid = True\n",
    "isComplete = False\n",
    "\n",
    "if(isValid):\n",
    "    print(\"isValid is True\")\n",
    "else:\n",
    "    print(\"isValid is False\")\n",
    "    \n",
    "if(not isComplete):\n",
    "    print(\"isComplete is False\")\n",
    "else:\n",
    "    print(\"isComplete is True\")\n",
    "    \n"
   ]
  },
  {
   "cell_type": "code",
   "execution_count": null,
   "id": "80211983",
   "metadata": {},
   "outputs": [],
   "source": [
    "isComplete"
   ]
  },
  {
   "cell_type": "code",
   "execution_count": null,
   "id": "0399814f",
   "metadata": {},
   "outputs": [],
   "source": [
    "status = \"Rejected\"\n",
    "\n",
    "# some code here.\n",
    "\n",
    "if(status == \"New\"):\n",
    "    print(\"This is a new document.\")\n",
    "elif(status == \"In Progress\"):\n",
    "    print(\"Document is WIP.\")\n",
    "elif(status == \"In Review\"):\n",
    "    print(\"Document is being reviewed\")\n",
    "elif(status == \"Approved\"):\n",
    "    print(\"Document is approved\")\n",
    "elif(status == \"Rejected\"):\n",
    "    print(\"Document is rejected\")\n",
    "else:\n",
    "    print(\"Invalid Status!!!\")\n",
    "    \n"
   ]
  },
  {
   "cell_type": "code",
   "execution_count": null,
   "id": "35da18d5",
   "metadata": {},
   "outputs": [],
   "source": [
    "print(type(1))"
   ]
  },
  {
   "cell_type": "code",
   "execution_count": null,
   "id": "df2e908b",
   "metadata": {},
   "outputs": [],
   "source": [
    "print(type(2.5))"
   ]
  },
  {
   "cell_type": "code",
   "execution_count": null,
   "id": "919873c4",
   "metadata": {},
   "outputs": [],
   "source": [
    "print(type(\"Hello\"))"
   ]
  },
  {
   "cell_type": "code",
   "execution_count": null,
   "id": "1949d323",
   "metadata": {},
   "outputs": [],
   "source": [
    "print(type(complex(5,2)))"
   ]
  },
  {
   "cell_type": "code",
   "execution_count": null,
   "id": "046f438d",
   "metadata": {},
   "outputs": [],
   "source": [
    "print( \"Hello\")\n"
   ]
  },
  {
   "cell_type": "code",
   "execution_count": null,
   "id": "53140ffe",
   "metadata": {},
   "outputs": [],
   "source": [
    "print = \"Hello\""
   ]
  },
  {
   "cell_type": "code",
   "execution_count": null,
   "id": "e4b6edc5",
   "metadata": {},
   "outputs": [],
   "source": [
    "name = \"John\"\n",
    "age = 25\n",
    "height = 165.5\n",
    "\n",
    "print(type(name))\n",
    "print(type(age))\n",
    "print(type(height))\n"
   ]
  },
  {
   "cell_type": "code",
   "execution_count": null,
   "id": "c59ce7a9",
   "metadata": {},
   "outputs": [],
   "source": [
    "a,b,c = \"How\", \"Are\", \"You\"\n",
    "print(a,b,c)"
   ]
  },
  {
   "cell_type": "code",
   "execution_count": null,
   "id": "0b4f5518",
   "metadata": {},
   "outputs": [],
   "source": [
    "d = a+b+c    # concatenation.\n",
    "print(d)"
   ]
  },
  {
   "cell_type": "code",
   "execution_count": null,
   "id": "59a9fdcc",
   "metadata": {},
   "outputs": [],
   "source": [
    "print(type(d))"
   ]
  },
  {
   "cell_type": "code",
   "execution_count": null,
   "id": "3362bec5",
   "metadata": {},
   "outputs": [],
   "source": [
    "# while loop\n",
    "counter = 1  # initialize.\n",
    "while(counter <= 10):\n",
    "    print(\"Counter = \", counter)\n",
    "    counter = counter + 1   # increment by 1.\n",
    "    #counter += 1\n",
    "    \n"
   ]
  },
  {
   "cell_type": "code",
   "execution_count": null,
   "id": "ad504214",
   "metadata": {},
   "outputs": [],
   "source": [
    "while(True):\n",
    "    print(\"Enter a number: \")\n",
    "    number = int(input())\n",
    "    if(number == 0):\n",
    "        break\n",
    "        \n",
    "    # Use the modulo operator to determine if the number is divisible by 2 (an even number).\n",
    "    if(number % 2 == 0):\n",
    "        print(\"The number is an even number: \", number)\n",
    "        continue\n",
    "        \n",
    "    print(\"You entered the odd number: \", number)\n",
    "    \n",
    "print(\"This is after the 'while' loop\")\n"
   ]
  },
  {
   "cell_type": "code",
   "execution_count": 1,
   "id": "249f3595",
   "metadata": {},
   "outputs": [
    {
     "name": "stdout",
     "output_type": "stream",
     "text": [
      "n =  5\n",
      "n =  6\n",
      "n =  7\n",
      "n =  8\n",
      "n =  9\n",
      "n =  10\n",
      "n =  11\n",
      "n =  12\n",
      "n =  13\n",
      "n =  14\n"
     ]
    }
   ],
   "source": [
    "for n in range(5,15):\n",
    "    print(\"n = \", n)\n",
    "    "
   ]
  },
  {
   "cell_type": "code",
   "execution_count": 2,
   "id": "bd220fb8",
   "metadata": {},
   "outputs": [
    {
     "name": "stdout",
     "output_type": "stream",
     "text": [
      "2\n",
      "3\n"
     ]
    }
   ],
   "source": [
    "x,y = 2,3\n",
    "print(x)\n",
    "print(y)\n"
   ]
  },
  {
   "cell_type": "code",
   "execution_count": 3,
   "id": "d3093e24",
   "metadata": {},
   "outputs": [
    {
     "data": {
      "text/plain": [
       "2"
      ]
     },
     "execution_count": 3,
     "metadata": {},
     "output_type": "execute_result"
    }
   ],
   "source": [
    "x\n"
   ]
  },
  {
   "cell_type": "code",
   "execution_count": 4,
   "id": "6a289178",
   "metadata": {},
   "outputs": [
    {
     "data": {
      "text/plain": [
       "3"
      ]
     },
     "execution_count": 4,
     "metadata": {},
     "output_type": "execute_result"
    }
   ],
   "source": [
    "y"
   ]
  },
  {
   "cell_type": "code",
   "execution_count": 5,
   "id": "1f0c29d1",
   "metadata": {},
   "outputs": [
    {
     "name": "stdout",
     "output_type": "stream",
     "text": [
      "3\n",
      "2\n"
     ]
    }
   ],
   "source": [
    "x,y = y,x   # swap the numbers.\n",
    "print(x)\n",
    "print(y)"
   ]
  },
  {
   "cell_type": "code",
   "execution_count": 6,
   "id": "55eaf85d",
   "metadata": {},
   "outputs": [
    {
     "data": {
      "text/plain": [
       "3"
      ]
     },
     "execution_count": 6,
     "metadata": {},
     "output_type": "execute_result"
    }
   ],
   "source": [
    "x\n"
   ]
  },
  {
   "cell_type": "code",
   "execution_count": 7,
   "id": "412f1038",
   "metadata": {},
   "outputs": [
    {
     "data": {
      "text/plain": [
       "2"
      ]
     },
     "execution_count": 7,
     "metadata": {},
     "output_type": "execute_result"
    }
   ],
   "source": [
    "y"
   ]
  },
  {
   "cell_type": "code",
   "execution_count": 8,
   "id": "16df3a65",
   "metadata": {},
   "outputs": [],
   "source": [
    "a = b = c= d = 25"
   ]
  },
  {
   "cell_type": "code",
   "execution_count": 9,
   "id": "778a56c1",
   "metadata": {},
   "outputs": [
    {
     "name": "stdout",
     "output_type": "stream",
     "text": [
      "25\n",
      "25\n",
      "25\n",
      "25\n"
     ]
    }
   ],
   "source": [
    "print(a)\n",
    "print(b)\n",
    "print(c)\n",
    "print(d)"
   ]
  },
  {
   "cell_type": "code",
   "execution_count": 20,
   "id": "64a5aa6a",
   "metadata": {},
   "outputs": [
    {
     "name": "stdout",
     "output_type": "stream",
     "text": [
      "Parameters x, y have values:  10 50\n"
     ]
    }
   ],
   "source": [
    "def abc(x, y):\n",
    "    print(\"Parameters x, y have values: \", x, y)\n",
    "    \n",
    "abc(10, 50)\n"
   ]
  },
  {
   "cell_type": "code",
   "execution_count": 21,
   "id": "e639b228",
   "metadata": {},
   "outputs": [
    {
     "name": "stdout",
     "output_type": "stream",
     "text": [
      "Parameters x, y have values:  10 50\n",
      "60\n",
      "Parameters x, y have values:  2 5\n",
      "7\n"
     ]
    }
   ],
   "source": [
    "def add(x, y):\n",
    "    print(\"Parameters x, y have values: \", x, y)    \n",
    "    z = x + y\n",
    "    return z\n",
    "    \n",
    "#result = add(10, 50)\n",
    "#print(\"result = \", result)\n",
    "print(add(10,50))\n",
    "print(add(2,5))"
   ]
  },
  {
   "cell_type": "code",
   "execution_count": 15,
   "id": "7d3682af",
   "metadata": {},
   "outputs": [
    {
     "name": "stdout",
     "output_type": "stream",
     "text": [
      "60\n"
     ]
    }
   ],
   "source": [
    "print(10+50)\n"
   ]
  },
  {
   "cell_type": "code",
   "execution_count": 26,
   "id": "fead4b52",
   "metadata": {},
   "outputs": [
    {
     "name": "stdout",
     "output_type": "stream",
     "text": [
      "Singala, Ajay\n",
      "Smith, John\n",
      "there, hello\n"
     ]
    },
    {
     "ename": "TypeError",
     "evalue": "unsupported operand type(s) for +: 'int' and 'str'",
     "output_type": "error",
     "traceback": [
      "\u001b[1;31m---------------------------------------------------------------------------\u001b[0m",
      "\u001b[1;31mTypeError\u001b[0m                                 Traceback (most recent call last)",
      "\u001b[1;32m<ipython-input-26-460e5a0dc423>\u001b[0m in \u001b[0;36m<module>\u001b[1;34m\u001b[0m\n\u001b[0;32m      6\u001b[0m \u001b[0mprint\u001b[0m\u001b[1;33m(\u001b[0m\u001b[0mfullname\u001b[0m\u001b[1;33m(\u001b[0m\u001b[1;34m\"hello\"\u001b[0m\u001b[1;33m,\u001b[0m \u001b[1;34m\"there\"\u001b[0m\u001b[1;33m)\u001b[0m\u001b[1;33m)\u001b[0m\u001b[1;33m\u001b[0m\u001b[1;33m\u001b[0m\u001b[0m\n\u001b[0;32m      7\u001b[0m \u001b[1;33m\u001b[0m\u001b[0m\n\u001b[1;32m----> 8\u001b[1;33m \u001b[0mprint\u001b[0m\u001b[1;33m(\u001b[0m\u001b[0mfullname\u001b[0m\u001b[1;33m(\u001b[0m\u001b[1;36m10\u001b[0m\u001b[1;33m,\u001b[0m\u001b[1;36m20\u001b[0m\u001b[1;33m)\u001b[0m\u001b[1;33m)\u001b[0m\u001b[1;33m\u001b[0m\u001b[1;33m\u001b[0m\u001b[0m\n\u001b[0m",
      "\u001b[1;32m<ipython-input-26-460e5a0dc423>\u001b[0m in \u001b[0;36mfullname\u001b[1;34m(firstname, lastname)\u001b[0m\n\u001b[0;32m      1\u001b[0m \u001b[1;32mdef\u001b[0m \u001b[0mfullname\u001b[0m\u001b[1;33m(\u001b[0m\u001b[0mfirstname\u001b[0m\u001b[1;33m,\u001b[0m \u001b[0mlastname\u001b[0m\u001b[1;33m)\u001b[0m\u001b[1;33m:\u001b[0m\u001b[1;33m\u001b[0m\u001b[1;33m\u001b[0m\u001b[0m\n\u001b[1;32m----> 2\u001b[1;33m     \u001b[1;32mreturn\u001b[0m \u001b[0mlastname\u001b[0m \u001b[1;33m+\u001b[0m \u001b[1;34m\", \"\u001b[0m \u001b[1;33m+\u001b[0m \u001b[0mfirstname\u001b[0m\u001b[1;33m\u001b[0m\u001b[1;33m\u001b[0m\u001b[0m\n\u001b[0m\u001b[0;32m      3\u001b[0m \u001b[1;33m\u001b[0m\u001b[0m\n\u001b[0;32m      4\u001b[0m \u001b[0mprint\u001b[0m\u001b[1;33m(\u001b[0m\u001b[0mfullname\u001b[0m\u001b[1;33m(\u001b[0m\u001b[1;34m\"Ajay\"\u001b[0m\u001b[1;33m,\u001b[0m \u001b[1;34m\"Singala\"\u001b[0m\u001b[1;33m)\u001b[0m\u001b[1;33m)\u001b[0m\u001b[1;33m\u001b[0m\u001b[1;33m\u001b[0m\u001b[0m\n\u001b[0;32m      5\u001b[0m \u001b[0mprint\u001b[0m\u001b[1;33m(\u001b[0m\u001b[0mfullname\u001b[0m\u001b[1;33m(\u001b[0m\u001b[1;34m\"John\"\u001b[0m\u001b[1;33m,\u001b[0m \u001b[1;34m\"Smith\"\u001b[0m\u001b[1;33m)\u001b[0m\u001b[1;33m)\u001b[0m\u001b[1;33m\u001b[0m\u001b[1;33m\u001b[0m\u001b[0m\n",
      "\u001b[1;31mTypeError\u001b[0m: unsupported operand type(s) for +: 'int' and 'str'"
     ]
    }
   ],
   "source": [
    "def fullname(firstname, lastname):\n",
    "    return lastname + \", \" + firstname\n",
    "\n",
    "print(fullname(\"Ajay\", \"Singala\"))\n",
    "print(fullname(\"John\", \"Smith\"))\n",
    "print(fullname(\"hello\", \"there\"))\n",
    "\n",
    "#print(fullname(10,20))   # error.\n"
   ]
  },
  {
   "cell_type": "code",
   "execution_count": 27,
   "id": "745642d5",
   "metadata": {},
   "outputs": [
    {
     "name": "stdout",
     "output_type": "stream",
     "text": [
      "('John', 32, 123.45)\n"
     ]
    }
   ],
   "source": [
    "person = ('John', 32, 123.45)\n",
    "print(person)"
   ]
  },
  {
   "cell_type": "code",
   "execution_count": 31,
   "id": "5bbe7c87",
   "metadata": {},
   "outputs": [
    {
     "name": "stdout",
     "output_type": "stream",
     "text": [
      "John\n",
      "32\n",
      "123.45\n"
     ]
    }
   ],
   "source": [
    "print(person[0])\n",
    "print(person[1])\n",
    "print(person[2])\n"
   ]
  },
  {
   "cell_type": "code",
   "execution_count": 37,
   "id": "50811d7a",
   "metadata": {},
   "outputs": [],
   "source": [
    "person2 = ('John', 32, 123.45, ('555-1234', '555-6789'))"
   ]
  },
  {
   "cell_type": "code",
   "execution_count": 40,
   "id": "8dd1fb79",
   "metadata": {},
   "outputs": [
    {
     "name": "stdout",
     "output_type": "stream",
     "text": [
      "John\n",
      "32\n",
      "123.45\n",
      "('555-1234', '555-6789')\n",
      "555-1234\n",
      "555-6789\n"
     ]
    }
   ],
   "source": [
    "print(person2[0])\n",
    "print(person2[1])\n",
    "print(person2[2])\n",
    "print(person2[3])\n",
    "print(person2[3][0])\n",
    "print(person2[3][1])\n"
   ]
  },
  {
   "cell_type": "code",
   "execution_count": 43,
   "id": "95d05b0a",
   "metadata": {},
   "outputs": [
    {
     "name": "stdout",
     "output_type": "stream",
     "text": [
      "('555-1234', '555-6789')\n",
      "123.45\n",
      "32\n",
      "John\n",
      "555-6789\n"
     ]
    }
   ],
   "source": [
    "print(person2[-1])\n",
    "print(person2[-2])\n",
    "print(person2[-3])\n",
    "print(person2[-4])\n",
    "\n",
    "print(person2[-1][-1])\n"
   ]
  },
  {
   "cell_type": "code",
   "execution_count": 46,
   "id": "a83f4adb",
   "metadata": {},
   "outputs": [
    {
     "name": "stdout",
     "output_type": "stream",
     "text": [
      "(('John', 32, 123.45, ('555-1234', '555-6789')), ('Mary', 33, 456.78, ('555-3324', '555-8889')), ('Joe', 28, 185.78, ('555-1324', '555-0889')))\n"
     ]
    }
   ],
   "source": [
    "people = (\n",
    "('John', 32, 123.45, ('555-1234', '555-6789')), \n",
    "('Mary', 33, 456.78, ('555-3324', '555-8889')),\n",
    "('Joe', 28, 185.78, ('555-1324', '555-0889'))\n",
    ")\n",
    "\n",
    "print(people)"
   ]
  },
  {
   "cell_type": "code",
   "execution_count": 49,
   "id": "af9940b1",
   "metadata": {},
   "outputs": [
    {
     "name": "stdout",
     "output_type": "stream",
     "text": [
      "('John', 32, 123.45, ('555-1234', '555-6789'))\n",
      "John\n",
      "('555-1234', '555-6789')\n",
      "555-1234\n"
     ]
    }
   ],
   "source": [
    "print(people[0])\n",
    "print(people[0][0])\n",
    "print(people[0][3])\n",
    "print(people[0][3][0])\n"
   ]
  },
  {
   "cell_type": "code",
   "execution_count": null,
   "id": "0d869aed",
   "metadata": {},
   "outputs": [],
   "source": []
  }
 ],
 "metadata": {
  "kernelspec": {
   "display_name": "Python 3",
   "language": "python",
   "name": "python3"
  },
  "language_info": {
   "codemirror_mode": {
    "name": "ipython",
    "version": 3
   },
   "file_extension": ".py",
   "mimetype": "text/x-python",
   "name": "python",
   "nbconvert_exporter": "python",
   "pygments_lexer": "ipython3",
   "version": "3.8.8"
  }
 },
 "nbformat": 4,
 "nbformat_minor": 5
}
