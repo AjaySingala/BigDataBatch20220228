{
 "cells": [
  {
   "cell_type": "code",
   "execution_count": null,
   "id": "d41b3e7a",
   "metadata": {},
   "outputs": [],
   "source": [
    "print(\"Hello there\")\n",
    "\n",
    "width = 10\n",
    "height = 20\n",
    "size = width * height"
   ]
  },
  {
   "cell_type": "code",
   "execution_count": null,
   "id": "86f0bd54",
   "metadata": {},
   "outputs": [],
   "source": [
    "print(size)"
   ]
  },
  {
   "cell_type": "code",
   "execution_count": null,
   "id": "f1de8957",
   "metadata": {},
   "outputs": [],
   "source": [
    "isValid = False\n",
    "isComplete = False\n",
    "\n",
    "if(isValid == True and isComplete == True):\n",
    "   print(\"It is True!\")\n",
    "   print(\"This will also be executed as part of the True block\")\n",
    "   print(\"This too\")\n",
    "else:\n",
    "   print(\"It is False!!!\")\n",
    "   print(\"This will also be executed as part of the False block\")\n",
    "   print(\"This as well\")"
   ]
  },
  {
   "cell_type": "code",
   "execution_count": null,
   "id": "5cbd5cf6",
   "metadata": {},
   "outputs": [],
   "source": [
    "print(True and False)"
   ]
  },
  {
   "cell_type": "code",
   "execution_count": null,
   "id": "095cec16",
   "metadata": {},
   "outputs": [],
   "source": [
    "isValid = False\n",
    "isComplete = False\n",
    "\n",
    "if(isValid == False or isComplete == False):\n",
    "   print(\"It is True!\")\n",
    "   print(\"This will also be executed as part of the True block\")\n",
    "   print(\"This too\")\n",
    "else:\n",
    "   print(\"It is False!!!\")\n",
    "   print(\"This will also be executed as part of the False block\")\n",
    "   print(\"This as well\")"
   ]
  },
  {
   "cell_type": "code",
   "execution_count": null,
   "id": "c538df53",
   "metadata": {},
   "outputs": [],
   "source": [
    "isValid = False\n",
    "isComplete = False\n",
    "\n",
    "if(isValid or isComplete):\n",
    "   print(\"It is True!\")\n",
    "   print(\"This will also be executed as part of the True block\")\n",
    "   print(\"This too\")\n",
    "else:\n",
    "   print(\"It is False!!!\")\n",
    "   print(\"This will also be executed as part of the False block\")\n",
    "   print(\"This as well\")"
   ]
  },
  {
   "cell_type": "code",
   "execution_count": null,
   "id": "a045d540",
   "metadata": {},
   "outputs": [],
   "source": [
    "isValid = True\n",
    "isComplete = False\n",
    "\n",
    "if(isValid):\n",
    "    print(\"isValid is True\")\n",
    "else:\n",
    "    print(\"isValid is False\")\n",
    "    \n",
    "if(not isComplete):\n",
    "    print(\"isComplete is False\")\n",
    "else:\n",
    "    print(\"isComplete is True\")\n",
    "    \n"
   ]
  },
  {
   "cell_type": "code",
   "execution_count": null,
   "id": "80211983",
   "metadata": {},
   "outputs": [],
   "source": [
    "isComplete"
   ]
  },
  {
   "cell_type": "code",
   "execution_count": null,
   "id": "0399814f",
   "metadata": {},
   "outputs": [],
   "source": [
    "status = \"Rejected\"\n",
    "\n",
    "# some code here.\n",
    "\n",
    "if(status == \"New\"):\n",
    "    print(\"This is a new document.\")\n",
    "elif(status == \"In Progress\"):\n",
    "    print(\"Document is WIP.\")\n",
    "elif(status == \"In Review\"):\n",
    "    print(\"Document is being reviewed\")\n",
    "elif(status == \"Approved\"):\n",
    "    print(\"Document is approved\")\n",
    "elif(status == \"Rejected\"):\n",
    "    print(\"Document is rejected\")\n",
    "else:\n",
    "    print(\"Invalid Status!!!\")\n",
    "    \n"
   ]
  },
  {
   "cell_type": "code",
   "execution_count": null,
   "id": "35da18d5",
   "metadata": {},
   "outputs": [],
   "source": [
    "print(type(1))"
   ]
  },
  {
   "cell_type": "code",
   "execution_count": null,
   "id": "df2e908b",
   "metadata": {},
   "outputs": [],
   "source": [
    "print(type(2.5))"
   ]
  },
  {
   "cell_type": "code",
   "execution_count": null,
   "id": "919873c4",
   "metadata": {},
   "outputs": [],
   "source": [
    "print(type(\"Hello\"))"
   ]
  },
  {
   "cell_type": "code",
   "execution_count": null,
   "id": "1949d323",
   "metadata": {},
   "outputs": [],
   "source": [
    "print(type(complex(5,2)))"
   ]
  },
  {
   "cell_type": "code",
   "execution_count": null,
   "id": "046f438d",
   "metadata": {},
   "outputs": [],
   "source": [
    "print( \"Hello\")\n"
   ]
  },
  {
   "cell_type": "code",
   "execution_count": null,
   "id": "53140ffe",
   "metadata": {},
   "outputs": [],
   "source": [
    "print = \"Hello\""
   ]
  },
  {
   "cell_type": "code",
   "execution_count": null,
   "id": "e4b6edc5",
   "metadata": {},
   "outputs": [],
   "source": [
    "name = \"John\"\n",
    "age = 25\n",
    "height = 165.5\n",
    "\n",
    "print(type(name))\n",
    "print(type(age))\n",
    "print(type(height))\n"
   ]
  },
  {
   "cell_type": "code",
   "execution_count": null,
   "id": "c59ce7a9",
   "metadata": {},
   "outputs": [],
   "source": [
    "a,b,c = \"How\", \"Are\", \"You\"\n",
    "print(a,b,c)"
   ]
  },
  {
   "cell_type": "code",
   "execution_count": null,
   "id": "0b4f5518",
   "metadata": {},
   "outputs": [],
   "source": [
    "d = a+b+c    # concatenation.\n",
    "print(d)"
   ]
  },
  {
   "cell_type": "code",
   "execution_count": null,
   "id": "59a9fdcc",
   "metadata": {},
   "outputs": [],
   "source": [
    "print(type(d))"
   ]
  },
  {
   "cell_type": "code",
   "execution_count": null,
   "id": "3362bec5",
   "metadata": {},
   "outputs": [],
   "source": [
    "# while loop\n",
    "counter = 1  # initialize.\n",
    "while(counter <= 10):\n",
    "    print(\"Counter = \", counter)\n",
    "    counter = counter + 1   # increment by 1.\n",
    "    #counter += 1\n",
    "    \n"
   ]
  },
  {
   "cell_type": "code",
   "execution_count": null,
   "id": "ad504214",
   "metadata": {},
   "outputs": [],
   "source": [
    "while(True):\n",
    "    print(\"Enter a number: \")\n",
    "    number = int(input())\n",
    "    if(number == 0):\n",
    "        break\n",
    "        \n",
    "    # Use the modulo operator to determine if the number is divisible by 2 (an even number).\n",
    "    if(number % 2 == 0):\n",
    "        print(\"The number is an even number: \", number)\n",
    "        continue\n",
    "        \n",
    "    print(\"You entered the odd number: \", number)\n",
    "    \n",
    "print(\"This is after the 'while' loop\")\n"
   ]
  },
  {
   "cell_type": "code",
   "execution_count": null,
   "id": "249f3595",
   "metadata": {},
   "outputs": [],
   "source": [
    "for n in range(5,15):\n",
    "    print(\"n = \", n)\n",
    "    "
   ]
  },
  {
   "cell_type": "code",
   "execution_count": null,
   "id": "bd220fb8",
   "metadata": {},
   "outputs": [],
   "source": [
    "x,y = 2,3\n",
    "print(x)\n",
    "print(y)\n"
   ]
  },
  {
   "cell_type": "code",
   "execution_count": null,
   "id": "d3093e24",
   "metadata": {},
   "outputs": [],
   "source": [
    "x\n"
   ]
  },
  {
   "cell_type": "code",
   "execution_count": null,
   "id": "6a289178",
   "metadata": {},
   "outputs": [],
   "source": [
    "y"
   ]
  },
  {
   "cell_type": "code",
   "execution_count": null,
   "id": "1f0c29d1",
   "metadata": {},
   "outputs": [],
   "source": [
    "x,y = y,x   # swap the numbers.\n",
    "print(x)\n",
    "print(y)"
   ]
  },
  {
   "cell_type": "code",
   "execution_count": null,
   "id": "55eaf85d",
   "metadata": {},
   "outputs": [],
   "source": [
    "x\n"
   ]
  },
  {
   "cell_type": "code",
   "execution_count": null,
   "id": "412f1038",
   "metadata": {},
   "outputs": [],
   "source": [
    "y"
   ]
  },
  {
   "cell_type": "code",
   "execution_count": null,
   "id": "16df3a65",
   "metadata": {},
   "outputs": [],
   "source": [
    "a = b = c= d = 25"
   ]
  },
  {
   "cell_type": "code",
   "execution_count": null,
   "id": "778a56c1",
   "metadata": {},
   "outputs": [],
   "source": [
    "print(a)\n",
    "print(b)\n",
    "print(c)\n",
    "print(d)"
   ]
  },
  {
   "cell_type": "code",
   "execution_count": null,
   "id": "64a5aa6a",
   "metadata": {},
   "outputs": [],
   "source": [
    "def abc(x, y):\n",
    "    print(\"Parameters x, y have values: \", x, y)\n",
    "    \n",
    "abc(10, 50)\n"
   ]
  },
  {
   "cell_type": "code",
   "execution_count": null,
   "id": "e639b228",
   "metadata": {},
   "outputs": [],
   "source": [
    "def add(x, y):\n",
    "    print(\"Parameters x, y have values: \", x, y)    \n",
    "    z = x + y\n",
    "    return z\n",
    "    \n",
    "#result = add(10, 50)\n",
    "#print(\"result = \", result)\n",
    "print(add(10,50))\n",
    "print(add(2,5))"
   ]
  },
  {
   "cell_type": "code",
   "execution_count": null,
   "id": "7d3682af",
   "metadata": {},
   "outputs": [],
   "source": [
    "print(10+50)\n"
   ]
  },
  {
   "cell_type": "code",
   "execution_count": null,
   "id": "fead4b52",
   "metadata": {},
   "outputs": [],
   "source": [
    "def fullname(firstname, lastname):\n",
    "    return lastname + \", \" + firstname\n",
    "\n",
    "print(fullname(\"Ajay\", \"Singala\"))\n",
    "print(fullname(\"John\", \"Smith\"))\n",
    "print(fullname(\"hello\", \"there\"))\n",
    "\n",
    "#print(fullname(10,20))   # error.\n"
   ]
  },
  {
   "cell_type": "code",
   "execution_count": null,
   "id": "745642d5",
   "metadata": {},
   "outputs": [],
   "source": [
    "person = ('John', 32, 123.45)\n",
    "print(person)"
   ]
  },
  {
   "cell_type": "code",
   "execution_count": null,
   "id": "5bbe7c87",
   "metadata": {},
   "outputs": [],
   "source": [
    "print(person[0])\n",
    "print(person[1])\n",
    "print(person[2])\n"
   ]
  },
  {
   "cell_type": "code",
   "execution_count": null,
   "id": "50811d7a",
   "metadata": {},
   "outputs": [],
   "source": [
    "person2 = ('John', 32, 123.45, ('555-1234', '555-6789'))"
   ]
  },
  {
   "cell_type": "code",
   "execution_count": null,
   "id": "8dd1fb79",
   "metadata": {},
   "outputs": [],
   "source": [
    "print(person2[0])\n",
    "print(person2[1])\n",
    "print(person2[2])\n",
    "print(person2[3])\n",
    "print(person2[3][0])\n",
    "print(person2[3][1])\n"
   ]
  },
  {
   "cell_type": "code",
   "execution_count": null,
   "id": "95d05b0a",
   "metadata": {},
   "outputs": [],
   "source": [
    "print(person2[-1])\n",
    "print(person2[-2])\n",
    "print(person2[-3])\n",
    "print(person2[-4])\n",
    "\n",
    "print(person2[-1][-1])\n"
   ]
  },
  {
   "cell_type": "code",
   "execution_count": null,
   "id": "a83f4adb",
   "metadata": {},
   "outputs": [],
   "source": [
    "people = (\n",
    "('John', 32, 123.45, ('555-1234', '555-6789')), \n",
    "('Mary', 33, 456.78, ('555-3324', '555-8889')),\n",
    "('Joe', 28, 185.78, ('555-1324', '555-0889'))\n",
    ")\n",
    "\n",
    "print(people)"
   ]
  },
  {
   "cell_type": "code",
   "execution_count": null,
   "id": "af9940b1",
   "metadata": {},
   "outputs": [],
   "source": [
    "print(people[0])\n",
    "print(people[0][0])\n",
    "print(people[0][3])\n",
    "print(people[0][3][0])\n"
   ]
  },
  {
   "cell_type": "code",
   "execution_count": null,
   "id": "0d869aed",
   "metadata": {},
   "outputs": [],
   "source": [
    "f = 10\n",
    "print(f)\n",
    "\n",
    "f = 'This is a string'\n",
    "print(f)\n",
    "\n",
    "f = (10, 20, 'Hello')\n",
    "print(f)\n"
   ]
  },
  {
   "cell_type": "code",
   "execution_count": null,
   "id": "359fd7f6",
   "metadata": {},
   "outputs": [],
   "source": [
    "print(\"hello\" + \"there\")\n",
    "\n",
    "name = \"ajay\"\n",
    "num = 99\n",
    "\n",
    "#print(name + num)\n",
    "\n",
    "print(name + str(num))"
   ]
  },
  {
   "cell_type": "code",
   "execution_count": 6,
   "id": "38fa783a",
   "metadata": {},
   "outputs": [
    {
     "name": "stdout",
     "output_type": "stream",
     "text": [
      "BEGIN:  100\n",
      "AFTER:  200\n",
      "END:  100\n"
     ]
    }
   ],
   "source": [
    "num = 100\n",
    "print(\"BEGIN: \", num)\n",
    "\n",
    "def someF():\n",
    "    #print(\"BEFORE: \", num)\n",
    "    # some processing.\n",
    "    num = 200\n",
    "    print(\"AFTER: \", num)\n",
    "    \n",
    "    \n",
    "someF()\n",
    "print(\"END: \", num)\n"
   ]
  },
  {
   "cell_type": "code",
   "execution_count": 7,
   "id": "1a2505b7",
   "metadata": {},
   "outputs": [
    {
     "name": "stdout",
     "output_type": "stream",
     "text": [
      "BEGIN:  100\n",
      "AFTER:  200\n",
      "END:  200\n"
     ]
    }
   ],
   "source": [
    "num = 100\n",
    "print(\"BEGIN: \", num)\n",
    "\n",
    "def someF():\n",
    "    global num\n",
    "    #print(\"BEFORE: \", num)\n",
    "    # some processing.\n",
    "    num = 200\n",
    "    print(\"AFTER: \", num)\n",
    "    \n",
    "    \n",
    "someF()\n",
    "print(\"END: \", num)"
   ]
  },
  {
   "cell_type": "code",
   "execution_count": 8,
   "id": "6de71de7",
   "metadata": {},
   "outputs": [
    {
     "name": "stdout",
     "output_type": "stream",
     "text": [
      "not equal\n"
     ]
    }
   ],
   "source": [
    "n = 10\n",
    "m = 20\n",
    "if(n != m):\n",
    "    print(\"not equal\")\n",
    "    "
   ]
  },
  {
   "cell_type": "code",
   "execution_count": 10,
   "id": "41ffbfd3",
   "metadata": {},
   "outputs": [
    {
     "name": "stdout",
     "output_type": "stream",
     "text": [
      "isValid is False\n",
      "isValid is False\n"
     ]
    }
   ],
   "source": [
    "isValid = False\n",
    "if(isValid != True):\n",
    "    print(\"isValid is False\")\n",
    "    \n",
    "if(not isValid):\n",
    "    print(\"isValid is False\")\n",
    "    "
   ]
  },
  {
   "cell_type": "code",
   "execution_count": 12,
   "id": "6590f81c",
   "metadata": {},
   "outputs": [
    {
     "name": "stdout",
     "output_type": "stream",
     "text": [
      "10\n",
      "12\n"
     ]
    }
   ],
   "source": [
    "x = 10\n",
    "print(x)\n",
    "x += 2\n",
    "print(x)\n"
   ]
  },
  {
   "cell_type": "code",
   "execution_count": 13,
   "id": "b9f36690",
   "metadata": {},
   "outputs": [
    {
     "data": {
      "text/plain": [
       "144"
      ]
     },
     "execution_count": 13,
     "metadata": {},
     "output_type": "execute_result"
    }
   ],
   "source": [
    "x**2"
   ]
  },
  {
   "cell_type": "code",
   "execution_count": 16,
   "id": "f0c1a61e",
   "metadata": {},
   "outputs": [
    {
     "name": "stdout",
     "output_type": "stream",
     "text": [
      "True\n"
     ]
    }
   ],
   "source": [
    "a = 2\n",
    "b = 2\n",
    "print(a is b)"
   ]
  },
  {
   "cell_type": "code",
   "execution_count": 17,
   "id": "408f3fe4",
   "metadata": {},
   "outputs": [
    {
     "name": "stdout",
     "output_type": "stream",
     "text": [
      "False\n"
     ]
    }
   ],
   "source": [
    "print( a is not b)"
   ]
  },
  {
   "cell_type": "code",
   "execution_count": 19,
   "id": "d7131875",
   "metadata": {},
   "outputs": [
    {
     "name": "stdout",
     "output_type": "stream",
     "text": [
      "True\n",
      "True\n"
     ]
    }
   ],
   "source": [
    "a = [1,2,3,4]\n",
    "print(3 in a)\n",
    "print(5 not in a)"
   ]
  },
  {
   "cell_type": "code",
   "execution_count": 20,
   "id": "8f962765",
   "metadata": {},
   "outputs": [
    {
     "name": "stdout",
     "output_type": "stream",
     "text": [
      "0.19366975216740678\n",
      "0.4071206102757551\n",
      "0.5337664678708223\n",
      "0.0730083989185627\n",
      "0.6697031855390702\n"
     ]
    }
   ],
   "source": [
    "import random\n",
    "\n",
    "for i in range(5):\n",
    "    x = random.random()\n",
    "    print(x)\n",
    "    "
   ]
  },
  {
   "cell_type": "code",
   "execution_count": 21,
   "id": "a5b727b5",
   "metadata": {},
   "outputs": [
    {
     "data": {
      "text/plain": [
       "8"
      ]
     },
     "execution_count": 21,
     "metadata": {},
     "output_type": "execute_result"
    }
   ],
   "source": [
    "random.randint(5,10)"
   ]
  },
  {
   "cell_type": "code",
   "execution_count": 24,
   "id": "1efdd959",
   "metadata": {},
   "outputs": [
    {
     "data": {
      "text/plain": [
       "57"
      ]
     },
     "execution_count": 24,
     "metadata": {},
     "output_type": "execute_result"
    }
   ],
   "source": [
    "random.randint(25,100)"
   ]
  },
  {
   "cell_type": "code",
   "execution_count": 33,
   "id": "71fbfc4e",
   "metadata": {},
   "outputs": [
    {
     "data": {
      "text/plain": [
       "1"
      ]
     },
     "execution_count": 33,
     "metadata": {},
     "output_type": "execute_result"
    }
   ],
   "source": [
    "numbers = [1,2,5,8,9,21,30]\n",
    "random.choice(numbers)\n"
   ]
  },
  {
   "cell_type": "code",
   "execution_count": 35,
   "id": "b23dcbfe",
   "metadata": {},
   "outputs": [
    {
     "name": "stdout",
     "output_type": "stream",
     "text": [
      "3.141592653589793\n",
      "4.0\n"
     ]
    }
   ],
   "source": [
    "import math\n",
    "print(math.pi)\n",
    "print(math.sqrt(16))"
   ]
  },
  {
   "cell_type": "code",
   "execution_count": 40,
   "id": "201e0c08",
   "metadata": {},
   "outputs": [
    {
     "name": "stdout",
     "output_type": "stream",
     "text": [
      "A\n",
      "S\n",
      "12\n",
      "l\n",
      "jay Sin\n"
     ]
    }
   ],
   "source": [
    "name = \"Ajay Singala\"\n",
    "print(name[0])\n",
    "print(name[5])\n",
    "print(len(name))\n",
    "print(name[-2])\n",
    "print(name[1:8])"
   ]
  },
  {
   "cell_type": "code",
   "execution_count": 41,
   "id": "4da5d51c",
   "metadata": {},
   "outputs": [
    {
     "name": "stdout",
     "output_type": "stream",
     "text": [
      "AJAY SINGALA\n",
      "ajay singala\n"
     ]
    }
   ],
   "source": [
    "print(name.upper())\n",
    "print(name.lower())\n"
   ]
  },
  {
   "cell_type": "code",
   "execution_count": 49,
   "id": "59c90b72",
   "metadata": {},
   "outputs": [
    {
     "name": "stdout",
     "output_type": "stream",
     "text": [
      "True\n",
      "False\n",
      "False\n",
      "True\n",
      "True\n"
     ]
    }
   ],
   "source": [
    "print(\"Ajay\".isalpha())\n",
    "print(name.isalpha())\n",
    "print(name.isdigit())\n",
    "\n",
    "x = \"100\"\n",
    "print(x.isdigit())\n",
    "\n",
    "emptyString = \"   \"\n",
    "print(emptyString.isspace())"
   ]
  },
  {
   "cell_type": "code",
   "execution_count": 55,
   "id": "5094f288",
   "metadata": {},
   "outputs": [
    {
     "name": "stdout",
     "output_type": "stream",
     "text": [
      "False\n",
      "Ajay Singala\n",
      "6\n",
      "200\n"
     ]
    }
   ],
   "source": [
    "print(name.startswith(\"John\"))\n",
    "print(name)\n",
    "print(name.find(\"ing\"))\n",
    "print(x.replace(\"10\", \"20\"))"
   ]
  },
  {
   "cell_type": "code",
   "execution_count": 57,
   "id": "cd2bfbe5",
   "metadata": {},
   "outputs": [
    {
     "name": "stdout",
     "output_type": "stream",
     "text": [
      "['This', 'is', 'a', 'string', 'used', 'for', 'testing', 'the', 'split()', 'function.']\n"
     ]
    }
   ],
   "source": [
    "string = \"This is a string used for testing the split() function.\"\n",
    "print(string.split(\" \"))"
   ]
  },
  {
   "cell_type": "code",
   "execution_count": 58,
   "id": "4b283918",
   "metadata": {},
   "outputs": [
    {
     "name": "stdout",
     "output_type": "stream",
     "text": [
      "['123', 'Ajay', 'Singala', '25', 'Boston', 'MA', '555-1234']\n"
     ]
    }
   ],
   "source": [
    "data = \"123,Ajay,Singala,25,Boston,MA,555-1234\"\n",
    "print(data.split(\",\"))"
   ]
  },
  {
   "cell_type": "code",
   "execution_count": 66,
   "id": "3c9b22f7",
   "metadata": {},
   "outputs": [
    {
     "name": "stdout",
     "output_type": "stream",
     "text": [
      "J,o,h,n,S,m,i,t,h\n",
      "John Smith,Mary Jane,Joe Picard\n"
     ]
    }
   ],
   "source": [
    "name1 = \",\"\n",
    "name2 = \"JohnSmith\"\n",
    "\n",
    "name3 = name1.join(name2)\n",
    "print(name3)\n",
    "\n",
    "names = [\"John Smith\", \"Mary Jane\", \"Joe Picard\"]\n",
    "\n",
    "name3 = name1.join(names)\n",
    "print(name3)"
   ]
  },
  {
   "cell_type": "code",
   "execution_count": 72,
   "id": "7d0c4c3a",
   "metadata": {},
   "outputs": [
    {
     "name": "stdout",
     "output_type": "stream",
     "text": [
      "Your word is greater than Banana\n"
     ]
    }
   ],
   "source": [
    "word = \"Bananas\"\n",
    "if(word < \"Banana\"):\n",
    "    print(\"Your word is less than Banana\")\n",
    "elif word > \"Banana\":\n",
    "    print(\"Your word is greater than Banana\")\n",
    "else:\n",
    "    print(\"Your word is a Banana\")\n",
    "    "
   ]
  },
  {
   "cell_type": "code",
   "execution_count": null,
   "id": "63310fe4",
   "metadata": {},
   "outputs": [],
   "source": []
  }
 ],
 "metadata": {
  "kernelspec": {
   "display_name": "Python 3",
   "language": "python",
   "name": "python3"
  },
  "language_info": {
   "codemirror_mode": {
    "name": "ipython",
    "version": 3
   },
   "file_extension": ".py",
   "mimetype": "text/x-python",
   "name": "python",
   "nbconvert_exporter": "python",
   "pygments_lexer": "ipython3",
   "version": "3.8.8"
  }
 },
 "nbformat": 4,
 "nbformat_minor": 5
}
