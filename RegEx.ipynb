{
 "cells": [
  {
   "cell_type": "code",
   "execution_count": 1,
   "id": "8a83e04e",
   "metadata": {},
   "outputs": [],
   "source": [
    "import re"
   ]
  },
  {
   "cell_type": "code",
   "execution_count": 8,
   "id": "3d986d73",
   "metadata": {},
   "outputs": [
    {
     "name": "stdout",
     "output_type": "stream",
     "text": [
      "<re.Match object; span=(12, 17), match='Spain'>\n"
     ]
    }
   ],
   "source": [
    "txt = \"The rain in Spain Spain Spain\"\n",
    "srch = re.search(\"Spain$\", txt)\n",
    "print(srch)"
   ]
  },
  {
   "cell_type": "code",
   "execution_count": 7,
   "id": "e529758e",
   "metadata": {},
   "outputs": [
    {
     "name": "stdout",
     "output_type": "stream",
     "text": [
      "<re.Match object; span=(0, 3), match='The'>\n"
     ]
    }
   ],
   "source": [
    "srch = re.search(\"^The\", txt)\n",
    "print(srch)"
   ]
  },
  {
   "cell_type": "code",
   "execution_count": 9,
   "id": "15d85a0c",
   "metadata": {},
   "outputs": [
    {
     "name": "stdout",
     "output_type": "stream",
     "text": [
      "['ai', 'ai']\n"
     ]
    }
   ],
   "source": [
    "srch = re.findall(\"ai\", txt)\n",
    "print(srch)"
   ]
  },
  {
   "cell_type": "code",
   "execution_count": 10,
   "id": "5cb60e11",
   "metadata": {},
   "outputs": [
    {
     "data": {
      "text/plain": [
       "4"
      ]
     },
     "execution_count": 10,
     "metadata": {},
     "output_type": "execute_result"
    }
   ],
   "source": [
    "txt.find(\"rain\")"
   ]
  },
  {
   "cell_type": "code",
   "execution_count": 11,
   "id": "e7f48d52",
   "metadata": {},
   "outputs": [
    {
     "data": {
      "text/plain": [
       "4"
      ]
     },
     "execution_count": 11,
     "metadata": {},
     "output_type": "execute_result"
    }
   ],
   "source": [
    "txt.index(\"rain\")"
   ]
  },
  {
   "cell_type": "code",
   "execution_count": 12,
   "id": "cff4b8a5",
   "metadata": {},
   "outputs": [
    {
     "data": {
      "text/plain": [
       "True"
      ]
     },
     "execution_count": 12,
     "metadata": {},
     "output_type": "execute_result"
    }
   ],
   "source": [
    "\"rain\" in txt"
   ]
  },
  {
   "cell_type": "code",
   "execution_count": 15,
   "id": "588051fc",
   "metadata": {},
   "outputs": [
    {
     "name": "stdout",
     "output_type": "stream",
     "text": [
      "The rain in Spain\n",
      "<re.Match object; span=(3, 4), match=' '>\n",
      "3\n"
     ]
    }
   ],
   "source": [
    "print(txt)\n",
    "s = re.search(\"\\s\", txt)    # \\s means the \"space\" character.\n",
    "print(s)\n",
    "print(s.start())"
   ]
  },
  {
   "cell_type": "code",
   "execution_count": 16,
   "id": "0c2214ec",
   "metadata": {},
   "outputs": [
    {
     "name": "stdout",
     "output_type": "stream",
     "text": [
      "['The', 'rain', 'in', 'Spain']\n"
     ]
    }
   ],
   "source": [
    "s = re.split(\"\\s\", txt)\n",
    "print(s)"
   ]
  },
  {
   "cell_type": "code",
   "execution_count": 17,
   "id": "330ecfb6",
   "metadata": {},
   "outputs": [
    {
     "name": "stdout",
     "output_type": "stream",
     "text": [
      "The rain in Spain\n",
      "The-rain-in-Spain\n"
     ]
    }
   ],
   "source": [
    "print(txt)\n",
    "s = re.sub(\"\\s\", \"-\", txt)\n",
    "print(s)\n"
   ]
  },
  {
   "cell_type": "code",
   "execution_count": 18,
   "id": "4a00c5a0",
   "metadata": {},
   "outputs": [
    {
     "name": "stdout",
     "output_type": "stream",
     "text": [
      "The rain in Spain\n",
      "The-rain-in Spain\n"
     ]
    }
   ],
   "source": [
    "print(txt)\n",
    "s = re.sub(\"\\s\", \"-\", txt, 2)\n",
    "print(s)\n"
   ]
  },
  {
   "cell_type": "code",
   "execution_count": null,
   "id": "1948acc3",
   "metadata": {},
   "outputs": [],
   "source": []
  }
 ],
 "metadata": {
  "kernelspec": {
   "display_name": "Python 3",
   "language": "python",
   "name": "python3"
  },
  "language_info": {
   "codemirror_mode": {
    "name": "ipython",
    "version": 3
   },
   "file_extension": ".py",
   "mimetype": "text/x-python",
   "name": "python",
   "nbconvert_exporter": "python",
   "pygments_lexer": "ipython3",
   "version": "3.8.8"
  }
 },
 "nbformat": 4,
 "nbformat_minor": 5
}
